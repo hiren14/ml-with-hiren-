{
  "nbformat": 4,
  "nbformat_minor": 0,
  "metadata": {
    "colab": {
      "name": "train with robloflow .ipynb",
      "provenance": [],
      "authorship_tag": "ABX9TyMjSHBF4iEH5o0PYKRhRKWG",
      "include_colab_link": true
    },
    "kernelspec": {
      "name": "python3",
      "display_name": "Python 3"
    },
    "language_info": {
      "name": "python"
    }
  },
  "cells": [
    {
      "cell_type": "markdown",
      "metadata": {
        "id": "view-in-github",
        "colab_type": "text"
      },
      "source": [
        "<a href=\"https://colab.research.google.com/github/hiren14/ml-with-hiren-/blob/main/train_with_robloflow_.ipynb\" target=\"_parent\"><img src=\"https://colab.research.google.com/assets/colab-badge.svg\" alt=\"Open In Colab\"/></a>"
      ]
    },
    {
      "cell_type": "code",
      "metadata": {
        "colab": {
          "base_uri": "https://localhost:8080/"
        },
        "id": "dNbsDVkTVg_Z",
        "outputId": "300d53ee-0caa-46b8-b165-b246ed82e037"
      },
      "source": [
        "!git clone https://github.com/jap-patel/Human_Detection_Alert"
      ],
      "execution_count": 1,
      "outputs": [
        {
          "output_type": "stream",
          "name": "stdout",
          "text": [
            "Cloning into 'Human_Detection_Alert'...\n",
            "remote: Enumerating objects: 202, done.\u001b[K\n",
            "remote: Counting objects: 100% (202/202), done.\u001b[K\n",
            "remote: Compressing objects: 100% (139/139), done.\u001b[K\n",
            "remote: Total 202 (delta 32), reused 184 (delta 24), pack-reused 0\u001b[K\n",
            "Receiving objects: 100% (202/202), 24.23 MiB | 31.69 MiB/s, done.\n",
            "Resolving deltas: 100% (32/32), done.\n"
          ]
        }
      ]
    },
    {
      "cell_type": "code",
      "metadata": {
        "id": "ngzEMf3aVy_5"
      },
      "source": [
        ""
      ],
      "execution_count": null,
      "outputs": []
    },
    {
      "cell_type": "code",
      "metadata": {
        "colab": {
          "base_uri": "https://localhost:8080/"
        },
        "id": "sc2rZ3gEW3co",
        "outputId": "7c277899-a0e8-438b-ffd6-0c430010bc10"
      },
      "source": [
        "!python /content/Human_Detection_Alert/detect.py --weights yolov5s.pt --source /content/Human_Detection_Alert/data/images/bus.jpg"
      ],
      "execution_count": 4,
      "outputs": [
        {
          "output_type": "stream",
          "name": "stdout",
          "text": [
            "\u001b[34m\u001b[1mdetect: \u001b[0mweights=['yolov5s.pt'], source=/content/Human_Detection_Alert/data/images/bus.jpg, imgsz=[640, 640], conf_thres=0.25, iou_thres=0.45, max_det=1000, device=, view_img=False, save_txt=False, save_conf=False, save_crop=False, nosave=False, classes=None, agnostic_nms=False, augment=False, visualize=False, update=False, project=Human_Detection_Alert/runs/detect, name=exp, exist_ok=False, line_thickness=3, hide_labels=False, hide_conf=False, half=False, dnn=False\n",
            "YOLOv5 🚀 c5a2616 torch 1.10.0+cu111 CPU\n",
            "\n",
            "Fusing layers... \n",
            "Model Summary: 213 layers, 7225885 parameters, 0 gradients\n",
            "image 1/1 /content/Human_Detection_Alert/data/images/bus.jpg: 640x480 4 persons, 1 bus, Done. (0.298s)\n",
            "Human_Detection_Alert/runs/detect/exp3/bus.jpg\n",
            "Speed: 1.7ms pre-process, 298.2ms inference, 1.6ms NMS per image at shape (1, 3, 640, 640)\n",
            "Results saved to \u001b[1mHuman_Detection_Alert/runs/detect/exp3\u001b[0m\n"
          ]
        }
      ]
    }
  ]
}